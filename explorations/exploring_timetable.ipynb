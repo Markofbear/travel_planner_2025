{
 "cells": [
  {
   "cell_type": "code",
   "execution_count": 1,
   "metadata": {},
   "outputs": [
    {
     "name": "stderr",
     "output_type": "stream",
     "text": [
      "2025-02-04 14:32:11.034 Thread 'MainThread': missing ScriptRunContext! This warning can be ignored when running in bare mode.\n",
      "2025-02-04 14:32:11.424 \n",
      "  \u001b[33m\u001b[1mWarning:\u001b[0m to view this Streamlit app on a browser, run it with the following\n",
      "  command:\n",
      "\n",
      "    streamlit run c:\\Users\\lager\\Documents\\Github\\travel_planner_2025\\.venv\\Lib\\site-packages\\ipykernel_launcher.py [ARGUMENTS]\n",
      "2025-02-04 14:32:11.425 Thread 'MainThread': missing ScriptRunContext! This warning can be ignored when running in bare mode.\n"
     ]
    },
    {
     "ename": "FileNotFoundError",
     "evalue": "No secrets found. Valid paths for a secrets.toml file or secret directories are: C:\\Users\\lager\\.streamlit\\secrets.toml, c:\\Users\\lager\\Documents\\Github\\travel_planner_2025\\explorations\\.streamlit\\secrets.toml",
     "output_type": "error",
     "traceback": [
      "\u001b[1;31m---------------------------------------------------------------------------\u001b[0m",
      "\u001b[1;31mFileNotFoundError\u001b[0m                         Traceback (most recent call last)",
      "Cell \u001b[1;32mIn[1], line 1\u001b[0m\n\u001b[1;32m----> 1\u001b[0m \u001b[38;5;28;01mfrom\u001b[39;00m\u001b[38;5;250m \u001b[39m\u001b[38;5;21;01mbackend\u001b[39;00m\u001b[38;5;21;01m.\u001b[39;00m\u001b[38;5;21;01mconnect_to_api\u001b[39;00m\u001b[38;5;250m \u001b[39m\u001b[38;5;28;01mimport\u001b[39;00m ResRobot\n\u001b[0;32m      3\u001b[0m resrobot \u001b[38;5;241m=\u001b[39m ResRobot()\n\u001b[0;32m      5\u001b[0m \u001b[38;5;66;03m# Departures from Gothenburg Central Station\u001b[39;00m\n",
      "File \u001b[1;32m~\\Documents\\Github\\travel_planner_2025\\backend\\connect_to_api.py:5\u001b[0m\n\u001b[0;32m      1\u001b[0m \u001b[38;5;28;01mimport\u001b[39;00m\u001b[38;5;250m \u001b[39m\u001b[38;5;21;01mrequests\u001b[39;00m\n\u001b[0;32m      2\u001b[0m \u001b[38;5;28;01mimport\u001b[39;00m\u001b[38;5;250m \u001b[39m\u001b[38;5;21;01mstreamlit\u001b[39;00m\u001b[38;5;250m \u001b[39m\u001b[38;5;28;01mas\u001b[39;00m\u001b[38;5;250m \u001b[39m\u001b[38;5;21;01mst\u001b[39;00m\n\u001b[1;32m----> 5\u001b[0m \u001b[38;5;28;43;01mclass\u001b[39;49;00m\u001b[38;5;250;43m \u001b[39;49m\u001b[38;5;21;43;01mResRobot\u001b[39;49;00m\u001b[43m:\u001b[49m\n\u001b[0;32m      6\u001b[0m \u001b[43m    \u001b[49m\u001b[43mAPI_KEY\u001b[49m\u001b[43m \u001b[49m\u001b[38;5;241;43m=\u001b[39;49m\u001b[43m \u001b[49m\u001b[43mst\u001b[49m\u001b[38;5;241;43m.\u001b[39;49m\u001b[43msecrets\u001b[49m\u001b[43m[\u001b[49m\u001b[38;5;124;43m\"\u001b[39;49m\u001b[38;5;124;43mapi\u001b[39;49m\u001b[38;5;124;43m\"\u001b[39;49m\u001b[43m]\u001b[49m\u001b[43m[\u001b[49m\u001b[38;5;124;43m\"\u001b[39;49m\u001b[38;5;124;43mAPI_KEY\u001b[39;49m\u001b[38;5;124;43m\"\u001b[39;49m\u001b[43m]\u001b[49m\n\u001b[0;32m      8\u001b[0m \u001b[43m    \u001b[49m\u001b[38;5;28;43;01mdef\u001b[39;49;00m\u001b[38;5;250;43m \u001b[39;49m\u001b[38;5;21;43mtrips\u001b[39;49m\u001b[43m(\u001b[49m\u001b[38;5;28;43mself\u001b[39;49m\u001b[43m,\u001b[49m\u001b[43m \u001b[49m\u001b[43morigin_id\u001b[49m\u001b[38;5;241;43m=\u001b[39;49m\u001b[38;5;241;43m740000001\u001b[39;49m\u001b[43m,\u001b[49m\u001b[43m \u001b[49m\u001b[43mdestination_id\u001b[49m\u001b[38;5;241;43m=\u001b[39;49m\u001b[38;5;241;43m740098001\u001b[39;49m\u001b[43m)\u001b[49m\u001b[43m:\u001b[49m\n",
      "File \u001b[1;32m~\\Documents\\Github\\travel_planner_2025\\backend\\connect_to_api.py:6\u001b[0m, in \u001b[0;36mResRobot\u001b[1;34m()\u001b[0m\n\u001b[0;32m      5\u001b[0m \u001b[38;5;28;01mclass\u001b[39;00m\u001b[38;5;250m \u001b[39m\u001b[38;5;21;01mResRobot\u001b[39;00m:\n\u001b[1;32m----> 6\u001b[0m     API_KEY \u001b[38;5;241m=\u001b[39m \u001b[43mst\u001b[49m\u001b[38;5;241;43m.\u001b[39;49m\u001b[43msecrets\u001b[49m\u001b[43m[\u001b[49m\u001b[38;5;124;43m\"\u001b[39;49m\u001b[38;5;124;43mapi\u001b[39;49m\u001b[38;5;124;43m\"\u001b[39;49m\u001b[43m]\u001b[49m[\u001b[38;5;124m\"\u001b[39m\u001b[38;5;124mAPI_KEY\u001b[39m\u001b[38;5;124m\"\u001b[39m]\n\u001b[0;32m      8\u001b[0m     \u001b[38;5;28;01mdef\u001b[39;00m\u001b[38;5;250m \u001b[39m\u001b[38;5;21mtrips\u001b[39m(\u001b[38;5;28mself\u001b[39m, origin_id\u001b[38;5;241m=\u001b[39m\u001b[38;5;241m740000001\u001b[39m, destination_id\u001b[38;5;241m=\u001b[39m\u001b[38;5;241m740098001\u001b[39m):\n\u001b[0;32m      9\u001b[0m \u001b[38;5;250m        \u001b[39m\u001b[38;5;124;03m\"\"\"origing_id and destination_id can be found from Stop lookup API\"\"\"\u001b[39;00m\n",
      "File \u001b[1;32mc:\\Users\\lager\\Documents\\Github\\travel_planner_2025\\.venv\\Lib\\site-packages\\streamlit\\runtime\\secrets.py:491\u001b[0m, in \u001b[0;36mSecrets.__getitem__\u001b[1;34m(self, key)\u001b[0m\n\u001b[0;32m    485\u001b[0m \u001b[38;5;250m\u001b[39m\u001b[38;5;124;03m\"\"\"Return the value with the given key. If no such key\u001b[39;00m\n\u001b[0;32m    486\u001b[0m \u001b[38;5;124;03mexists, raise a KeyError.\u001b[39;00m\n\u001b[0;32m    487\u001b[0m \n\u001b[0;32m    488\u001b[0m \u001b[38;5;124;03mThread-safe.\u001b[39;00m\n\u001b[0;32m    489\u001b[0m \u001b[38;5;124;03m\"\"\"\u001b[39;00m\n\u001b[0;32m    490\u001b[0m \u001b[38;5;28;01mtry\u001b[39;00m:\n\u001b[1;32m--> 491\u001b[0m     value \u001b[38;5;241m=\u001b[39m \u001b[38;5;28;43mself\u001b[39;49m\u001b[38;5;241;43m.\u001b[39;49m\u001b[43m_parse\u001b[49m\u001b[43m(\u001b[49m\u001b[43m)\u001b[49m[key]\n\u001b[0;32m    492\u001b[0m     \u001b[38;5;28;01mif\u001b[39;00m \u001b[38;5;129;01mnot\u001b[39;00m \u001b[38;5;28misinstance\u001b[39m(value, Mapping):\n\u001b[0;32m    493\u001b[0m         \u001b[38;5;28;01mreturn\u001b[39;00m value\n",
      "File \u001b[1;32mc:\\Users\\lager\\Documents\\Github\\travel_planner_2025\\.venv\\Lib\\site-packages\\streamlit\\runtime\\secrets.py:393\u001b[0m, in \u001b[0;36mSecrets._parse\u001b[1;34m(self)\u001b[0m\n\u001b[0;32m    387\u001b[0m     error_msg \u001b[38;5;241m=\u001b[39m (\n\u001b[0;32m    388\u001b[0m         secret_error_messages_singleton\u001b[38;5;241m.\u001b[39mget_no_secrets_found_message(\n\u001b[0;32m    389\u001b[0m             file_paths\n\u001b[0;32m    390\u001b[0m         )\n\u001b[0;32m    391\u001b[0m     )\n\u001b[0;32m    392\u001b[0m     \u001b[38;5;28mself\u001b[39m\u001b[38;5;241m.\u001b[39m_print_exception_if_not_suppressed(error_msg)\n\u001b[1;32m--> 393\u001b[0m     \u001b[38;5;28;01mraise\u001b[39;00m \u001b[38;5;167;01mFileNotFoundError\u001b[39;00m(error_msg)\n\u001b[0;32m    395\u001b[0m \u001b[38;5;28;01mfor\u001b[39;00m k, v \u001b[38;5;129;01min\u001b[39;00m secrets\u001b[38;5;241m.\u001b[39mitems():\n\u001b[0;32m    396\u001b[0m     \u001b[38;5;28mself\u001b[39m\u001b[38;5;241m.\u001b[39m_maybe_set_environment_variable(k, v)\n",
      "\u001b[1;31mFileNotFoundError\u001b[0m: No secrets found. Valid paths for a secrets.toml file or secret directories are: C:\\Users\\lager\\.streamlit\\secrets.toml, c:\\Users\\lager\\Documents\\Github\\travel_planner_2025\\explorations\\.streamlit\\secrets.toml"
     ]
    }
   ],
   "source": [
    "from backend.connect_to_api import ResRobot\n",
    "\n",
    "resrobot = ResRobot()\n",
    "\n",
    "# Departures from Gothenburg Central Station\n",
    "gothenburg_id = 740000002\n",
    "departure_data = resrobot.timetable_departure(gothenburg_id)\n",
    "departure_data"
   ]
  },
  {
   "cell_type": "code",
   "execution_count": 2,
   "metadata": {},
   "outputs": [
    {
     "name": "stdout",
     "output_type": "stream",
     "text": [
      "Index(['JourneyDetailRef', 'JourneyStatus', 'ProductAtStop', 'Product',\n",
      "       'Notes', 'name', 'type', 'stop', 'stopid', 'stopExtId', 'lon', 'lat',\n",
      "       'time', 'date', 'reachable', 'direction', 'directionFlag', 'rtPlatform',\n",
      "       'prognosisType', 'rtTime', 'rtDate', 'rtTrack'],\n",
      "      dtype='object')\n",
      "                   JourneyDetailRef JourneyStatus  \\\n",
      "0  {'ref': '1|112454|1|1|27012025'}             P   \n",
      "1  {'ref': '1|180230|0|1|27012025'}             P   \n",
      "2     {'ref': '1|356|0|1|27012025'}             P   \n",
      "3     {'ref': '1|520|0|1|27012025'}             P   \n",
      "4   {'ref': '1|22457|7|1|27012025'}             P   \n",
      "\n",
      "                                       ProductAtStop  \\\n",
      "0  {'icon': {'res': 'prod_gen'}, 'operatorInfo': ...   \n",
      "1  {'icon': {'res': 'prod_gen'}, 'operatorInfo': ...   \n",
      "2  {'icon': {'res': 'prod_gen'}, 'operatorInfo': ...   \n",
      "3  {'icon': {'res': 'prod_gen'}, 'operatorInfo': ...   \n",
      "4  {'icon': {'res': 'prod_gen'}, 'operatorInfo': ...   \n",
      "\n",
      "                                             Product  \\\n",
      "0  [{'icon': {'res': 'prod_gen'}, 'operatorInfo':...   \n",
      "1  [{'icon': {'res': 'prod_gen'}, 'operatorInfo':...   \n",
      "2  [{'icon': {'res': 'prod_gen'}, 'operatorInfo':...   \n",
      "3  [{'icon': {'res': 'prod_gen'}, 'operatorInfo':...   \n",
      "4  [{'icon': {'res': 'prod_gen'}, 'operatorInfo':...   \n",
      "\n",
      "                                               Notes                   name  \\\n",
      "0  {'Note': [{'value': 'Lag 2015:953 tillämpas', ...   Länstrafik - Buss X3   \n",
      "1  {'Note': [{'value': 'Lag 2015:953 tillämpas', ...  Länstrafik - Buss 513   \n",
      "2  {'Note': [{'value': 'Lag 2015:953 tillämpas', ...   Länstrafik - Buss X4   \n",
      "3  {'Note': [{'value': 'Lag 2015:953 tillämpas', ...   Länstrafik - Buss X4   \n",
      "4  {'Note': [{'value': 'Lag 2015:953 tillämpas', ...   Länstrafik - Buss 16   \n",
      "\n",
      "  type                     stop  \\\n",
      "0   ST  Göteborg Polhemsplatsen   \n",
      "1   ST  Göteborg Polhemsplatsen   \n",
      "2   ST  Göteborg Polhemsplatsen   \n",
      "3   ST  Göteborg Polhemsplatsen   \n",
      "4   ST        Göteborg Nordstan   \n",
      "\n",
      "                                              stopid  stopExtId  ...  \\\n",
      "0  A=1@O=Göteborg Polhemsplatsen@X=11977317@Y=577...  740059478  ...   \n",
      "1  A=1@O=Göteborg Polhemsplatsen@X=11977317@Y=577...  740059478  ...   \n",
      "2  A=1@O=Göteborg Polhemsplatsen@X=11977317@Y=577...  740059478  ...   \n",
      "3  A=1@O=Göteborg Polhemsplatsen@X=11977317@Y=577...  740059478  ...   \n",
      "4  A=1@O=Göteborg Nordstan@X=11970791@Y=57709246@...  740015585  ...   \n",
      "\n",
      "       time        date reachable                       direction  \\\n",
      "0  08:46:00  2025-01-27      True               Göteborg Svingeln   \n",
      "1  08:46:00  2025-01-27      True                  Göteborg Heden   \n",
      "2  08:47:00  2025-01-27      True  Mölnlycke station (Härryda kn)   \n",
      "3  08:47:00  2025-01-27      True             Kungälv resecentrum   \n",
      "4  08:47:00  2025-01-27      True        Fyrktorget (Göteborg kn)   \n",
      "\n",
      "   directionFlag rtPlatform prognosisType rtTime rtDate rtTrack  \n",
      "0              2        NaN           NaN    NaN    NaN     NaN  \n",
      "1              1        NaN           NaN    NaN    NaN     NaN  \n",
      "2              1        NaN           NaN    NaN    NaN     NaN  \n",
      "3              2        NaN           NaN    NaN    NaN     NaN  \n",
      "4              1        NaN           NaN    NaN    NaN     NaN  \n",
      "\n",
      "[5 rows x 22 columns]\n"
     ]
    }
   ],
   "source": [
    "import pandas as pd\n",
    "\n",
    "# Extract departure data\n",
    "departures = departure_data.get(\"Departure\", [])\n",
    "\n",
    "df = pd.DataFrame(departures)\n",
    "\n",
    "print(df.columns)\n",
    "print(df.head())"
   ]
  },
  {
   "cell_type": "code",
   "execution_count": 3,
   "metadata": {},
   "outputs": [
    {
     "name": "stdout",
     "output_type": "stream",
     "text": [
      "{'icon': {'res': 'prod_gen'}, 'operatorInfo': {'name': 'Västtrafik', 'nameS': '279', 'nameN': '279', 'nameL': 'Västtrafik', 'id': '279'}, 'name': 'Länstrafik - Buss X3', 'internalName': 'Länstrafik - Buss X3', 'displayNumber': 'X3', 'num': 'X3', 'line': 'X3', 'lineId': '1279520300001', 'catOut': 'BLT', 'catIn': 'BLT', 'catCode': '7', 'cls': '128', 'catOutS': 'BLT', 'catOutL': 'Länstrafik - Buss', 'operatorCode': '279', 'operator': 'Västtrafik', 'admin': '279___', 'matchId': 'X3;5203;50'}\n",
      "       time        date                       direction\n",
      "0  08:46:00  2025-01-27               Göteborg Svingeln\n",
      "1  08:46:00  2025-01-27                  Göteborg Heden\n",
      "2  08:47:00  2025-01-27  Mölnlycke station (Härryda kn)\n",
      "3  08:47:00  2025-01-27             Kungälv resecentrum\n",
      "4  08:47:00  2025-01-27        Fyrktorget (Göteborg kn)\n"
     ]
    }
   ],
   "source": [
    "print(df[\"ProductAtStop\"][0])\n",
    "\n",
    "print(df[[\"time\", \"date\", \"direction\"]].head())"
   ]
  },
  {
   "cell_type": "code",
   "execution_count": 4,
   "metadata": {},
   "outputs": [
    {
     "name": "stdout",
     "output_type": "stream",
     "text": [
      "       time        date                       direction  \\\n",
      "0  08:46:00  2025-01-27               Göteborg Svingeln   \n",
      "1  08:46:00  2025-01-27                  Göteborg Heden   \n",
      "2  08:47:00  2025-01-27  Mölnlycke station (Härryda kn)   \n",
      "3  08:47:00  2025-01-27             Kungälv resecentrum   \n",
      "4  08:47:00  2025-01-27        Fyrktorget (Göteborg kn)   \n",
      "\n",
      "                    name                   name displayNumber  \\\n",
      "0   Länstrafik - Buss X3   Länstrafik - Buss X3            X3   \n",
      "1  Länstrafik - Buss 513  Länstrafik - Buss 513           513   \n",
      "2   Länstrafik - Buss X4   Länstrafik - Buss X4            X4   \n",
      "3   Länstrafik - Buss X4   Länstrafik - Buss X4            X4   \n",
      "4   Länstrafik - Buss 16   Länstrafik - Buss 16            16   \n",
      "\n",
      "             catOutL  \n",
      "0  Länstrafik - Buss  \n",
      "1  Länstrafik - Buss  \n",
      "2  Länstrafik - Buss  \n",
      "3  Länstrafik - Buss  \n",
      "4  Länstrafik - Buss  \n"
     ]
    }
   ],
   "source": [
    "# Flatten ProductAtStop column\n",
    "product_at_stop_df = pd.json_normalize(df[\"ProductAtStop\"])\n",
    "\n",
    "product_at_stop_df = product_at_stop_df[[\"name\", \"displayNumber\", \"catOutL\"]]\n",
    "\n",
    "# Combine the flattened data with the main DataFrame\n",
    "df_combined = pd.concat([df, product_at_stop_df], axis=1)\n",
    "\n",
    "print(\n",
    "    df_combined[\n",
    "        [\"time\", \"date\", \"direction\", \"name\", \"displayNumber\", \"catOutL\"]\n",
    "    ].head()\n",
    ")"
   ]
  },
  {
   "cell_type": "code",
   "execution_count": 5,
   "metadata": {},
   "outputs": [
    {
     "name": "stdout",
     "output_type": "stream",
     "text": [
      "       time        date                       direction  \\\n",
      "0  08:46:00  2025-01-27               Göteborg Svingeln   \n",
      "1  08:46:00  2025-01-27                  Göteborg Heden   \n",
      "2  08:47:00  2025-01-27  Mölnlycke station (Härryda kn)   \n",
      "3  08:47:00  2025-01-27             Kungälv resecentrum   \n",
      "4  08:47:00  2025-01-27        Fyrktorget (Göteborg kn)   \n",
      "\n",
      "                    name                   name displayNumber  \\\n",
      "0   Länstrafik - Buss X3   Länstrafik - Buss X3            X3   \n",
      "1  Länstrafik - Buss 513  Länstrafik - Buss 513           513   \n",
      "2   Länstrafik - Buss X4   Länstrafik - Buss X4            X4   \n",
      "3   Länstrafik - Buss X4   Länstrafik - Buss X4            X4   \n",
      "4   Länstrafik - Buss 16   Länstrafik - Buss 16            16   \n",
      "\n",
      "             catOutL  minutes_to_departure  \n",
      "0  Länstrafik - Buss             -0.639145  \n",
      "1  Länstrafik - Buss             -0.639145  \n",
      "2  Länstrafik - Buss              0.360855  \n",
      "3  Länstrafik - Buss              0.360855  \n",
      "4  Länstrafik - Buss              0.360855  \n"
     ]
    }
   ],
   "source": [
    "from datetime import datetime\n",
    "\n",
    "# Datetime column for departure time\n",
    "df_combined[\"departure_time\"] = pd.to_datetime(\n",
    "    df_combined[\"date\"] + \" \" + df_combined[\"time\"]\n",
    ")\n",
    "\n",
    "# Calculate minutes to departure\n",
    "current_time = datetime.now()\n",
    "df_combined[\"minutes_to_departure\"] = (\n",
    "    df_combined[\"departure_time\"] - current_time\n",
    ").dt.total_seconds() / 60\n",
    "\n",
    "print(\n",
    "    df_combined[\n",
    "        [\n",
    "            \"time\",\n",
    "            \"date\",\n",
    "            \"direction\",\n",
    "            \"name\",\n",
    "            \"displayNumber\",\n",
    "            \"catOutL\",\n",
    "            \"minutes_to_departure\",\n",
    "        ]\n",
    "    ].head()\n",
    ")"
   ]
  },
  {
   "cell_type": "code",
   "execution_count": 6,
   "metadata": {},
   "outputs": [
    {
     "name": "stdout",
     "output_type": "stream",
     "text": [
      "         time                           direction                    name  \\\n",
      "0    08:46:00                   Göteborg Svingeln    Länstrafik - Buss X3   \n",
      "1    08:46:00                      Göteborg Heden   Länstrafik - Buss 513   \n",
      "2    08:47:00      Mölnlycke station (Härryda kn)    Länstrafik - Buss X4   \n",
      "3    08:47:00                 Kungälv resecentrum    Länstrafik - Buss X4   \n",
      "4    08:47:00            Fyrktorget (Göteborg kn)    Länstrafik - Buss 16   \n",
      "..        ...                                 ...                     ...   \n",
      "189  09:45:00                  Kungsbacka station   Länstrafik - Tåg 3039   \n",
      "190  09:45:00                      Göteborg Heden   Länstrafik - Buss 513   \n",
      "191  09:46:00                 Kungälv resecentrum    Länstrafik - Buss X4   \n",
      "192  09:46:00            Göteborg Östra sjukhuset    Länstrafik - Buss 17   \n",
      "193  09:46:00  Kortedala Aprilgatan (Göteborg kn)  Länstrafik - Spårväg 6   \n",
      "\n",
      "                       name displayNumber               catOutL  \\\n",
      "0      Länstrafik - Buss X3            X3     Länstrafik - Buss   \n",
      "1     Länstrafik - Buss 513           513     Länstrafik - Buss   \n",
      "2      Länstrafik - Buss X4            X4     Länstrafik - Buss   \n",
      "3      Länstrafik - Buss X4            X4     Länstrafik - Buss   \n",
      "4      Länstrafik - Buss 16            16     Länstrafik - Buss   \n",
      "..                      ...           ...                   ...   \n",
      "189   Länstrafik - Tåg 3039          3039      Länstrafik - Tåg   \n",
      "190   Länstrafik - Buss 513           513     Länstrafik - Buss   \n",
      "191    Länstrafik - Buss X4            X4     Länstrafik - Buss   \n",
      "192    Länstrafik - Buss 17            17     Länstrafik - Buss   \n",
      "193  Länstrafik - Spårväg 6             6  Länstrafik - Spårväg   \n",
      "\n",
      "     minutes_to_departure  \n",
      "0               -0.639145  \n",
      "1               -0.639145  \n",
      "2                0.360855  \n",
      "3                0.360855  \n",
      "4                0.360855  \n",
      "..                    ...  \n",
      "189             58.360855  \n",
      "190             58.360855  \n",
      "191             59.360855  \n",
      "192             59.360855  \n",
      "193             59.360855  \n",
      "\n",
      "[194 rows x 7 columns]\n"
     ]
    }
   ],
   "source": [
    "# Filter departures within the next 60 minutes\n",
    "df_next_hour = df_combined[df_combined[\"minutes_to_departure\"] <= 60]\n",
    "\n",
    "print(\n",
    "    df_next_hour[\n",
    "        [\n",
    "            \"time\",\n",
    "            \"direction\",\n",
    "            \"name\",\n",
    "            \"displayNumber\",\n",
    "            \"catOutL\",\n",
    "            \"minutes_to_departure\",\n",
    "        ]\n",
    "    ]\n",
    ")"
   ]
  },
  {
   "cell_type": "code",
   "execution_count": 7,
   "metadata": {},
   "outputs": [
    {
     "name": "stdout",
     "output_type": "stream",
     "text": [
      "catOutL\n",
      "Länstrafik - Buss       156\n",
      "Länstrafik - Spårväg     15\n",
      "Länstrafik - Tåg         10\n",
      "Expressbuss               4\n",
      "Regional Tåg              4\n",
      "Flygtransfer - Buss       3\n",
      "Snabbtåg                  2\n",
      "Name: count, dtype: int64\n",
      "displayNumber\n",
      "X4       41\n",
      "16       20\n",
      "17       14\n",
      "6        14\n",
      "21       13\n",
      "X3       12\n",
      "X1       12\n",
      "SVART    11\n",
      "513       8\n",
      "510       6\n",
      "173       6\n",
      "SNU       4\n",
      ".         3\n",
      "503       3\n",
      "59        2\n",
      "841       2\n",
      "16X       1\n",
      "1071      1\n",
      "3738      1\n",
      "3189      1\n",
      "611       1\n",
      "600       1\n",
      "OEXP      1\n",
      "487       1\n",
      "3636      1\n",
      "428       1\n",
      "3037      1\n",
      "356       1\n",
      "20137     1\n",
      "3536      1\n",
      "7337      1\n",
      "170       1\n",
      "3187      1\n",
      "613       1\n",
      "3236      1\n",
      "3634      1\n",
      "TEXP      1\n",
      "9         1\n",
      "3039      1\n",
      "Name: count, dtype: int64\n"
     ]
    }
   ],
   "source": [
    "# Count transport types in the filtered data\n",
    "print(df_next_hour[\"catOutL\"].value_counts())\n",
    "\n",
    "# Count unique lines in the filtered data\n",
    "print(df_next_hour[\"displayNumber\"].value_counts())"
   ]
  }
 ],
 "metadata": {
  "kernelspec": {
   "display_name": ".venv",
   "language": "python",
   "name": "python3"
  },
  "language_info": {
   "codemirror_mode": {
    "name": "ipython",
    "version": 3
   },
   "file_extension": ".py",
   "mimetype": "text/x-python",
   "name": "python",
   "nbconvert_exporter": "python",
   "pygments_lexer": "ipython3",
   "version": "3.11.7"
  }
 },
 "nbformat": 4,
 "nbformat_minor": 2
}
